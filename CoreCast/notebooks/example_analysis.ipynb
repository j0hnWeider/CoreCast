{
 "cells": [
  {
   "cell_type": "markdown",
   "metadata": {},
   "source": [
    "# Análise Exploratória de Dados - Exemplo\n",
    "\n",
    "Este notebook demonstra uma análise exploratória simples usando pandas e matplotlib."
   ]
  },
  {
   "cell_type": "code",
   "execution_count": null,
   "metadata": {},
   "outputs": [],
   "source": [
    "import pandas as pd\n",
    "import matplotlib.pyplot as plt\n",
    "\n",
    "# Exemplo de dados simulados\n",
    "data = {\n",
    "    'sensor': ['A', 'B', 'C', 'D'],\n",
    "    'valor': [23, 45, 12, 67]\n",
    "}\n",
    "df = pd.DataFrame(data)\n",
    "\n",
    "# Visualização simples\n",
    "plt.bar(df['sensor'], df['valor'])\n",
    "plt.title('Valores dos Sensores')\n",
    "plt.xlabel('Sensor')\n",
    "plt.ylabel('Valor')\n",
    "plt.show()"
   ]
  }
 ],
 "metadata": {
  "kernelspec": {
   "display_name": "Python 3",
   "language": "python",
   "name": "python3"
  },
  "language_info": {
   "codemirror_mode": {
    "name": "ipython",
    "version": 3
   },
   "file_extension": ".py",
   "mimetype": "text/x-python",
   "name": "python",
   "nbconvert_exporter": "python",
   "pygments_lexer": "ipython3",
   "version": "3.9.7"
  }
 },
 "nbformat": 4,
 "nbformat_minor": 5
}
